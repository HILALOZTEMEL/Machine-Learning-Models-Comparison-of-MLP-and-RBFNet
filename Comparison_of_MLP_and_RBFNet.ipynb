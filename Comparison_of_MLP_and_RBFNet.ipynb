{
  "nbformat": 4,
  "nbformat_minor": 0,
  "metadata": {
    "colab": {
      "provenance": [],
      "machine_shape": "hm",
      "authorship_tag": "ABX9TyOOcNBk/crD0g4Heyrwd5SX",
      "include_colab_link": true
    },
    "kernelspec": {
      "name": "python3",
      "display_name": "Python 3"
    },
    "language_info": {
      "name": "python"
    }
  },
  "cells": [
    {
      "cell_type": "markdown",
      "metadata": {
        "id": "view-in-github",
        "colab_type": "text"
      },
      "source": [
        "<a href=\"https://colab.research.google.com/github/HILALOZTEMEL/Machine-Learning-Models-Comparison-of-MLP-and-RBFNet/blob/main/Comparison_of_MLP_and_RBFNet.ipynb\" target=\"_parent\"><img src=\"https://colab.research.google.com/assets/colab-badge.svg\" alt=\"Open In Colab\"/></a>"
      ]
    },
    {
      "cell_type": "code",
      "execution_count": null,
      "metadata": {
        "id": "j6KDu4LrDhAn"
      },
      "outputs": [],
      "source": [
        "import numpy as np\n",
        "import pandas as pd\n",
        "import matplotlib.pyplot as plt\n",
        "import seaborn as sns\n",
        "\n",
        "from sklearn.model_selection import train_test_split\n",
        "from sklearn.preprocessing import StandardScaler, MinMaxScaler\n",
        "\n",
        "import torch\n",
        "from torchvision import datasets, transforms\n",
        "from torch.utils.data import DataLoader, random_split\n"
      ]
    },
    {
      "cell_type": "markdown",
      "source": [
        "# Veri Yükleme"
      ],
      "metadata": {
        "id": "d1bhEVShJuF4"
      }
    },
    {
      "cell_type": "code",
      "source": [
        "# Veri dönüşümleri\n",
        "transform = transforms.Compose([\n",
        "    transforms.ToTensor(),  # Görüntüyü tensöre dönüştür\n",
        "    transforms.Normalize((0.5,), (0.5,))  # Normalize et (ortalama=0, std=1)\n",
        "])\n",
        "\n",
        "# Eğitim veri setini yükle\n",
        "dataset = datasets.FashionMNIST(root='./data', train=True, download=True, transform=transform)\n",
        "\n",
        "# Test veri setini yükle\n",
        "test_dataset = datasets.FashionMNIST(root='./data', train=False, download=True, transform=transform)"
      ],
      "metadata": {
        "id": "icCpre0sGV_W",
        "colab": {
          "base_uri": "https://localhost:8080/"
        },
        "outputId": "d348ffd7-b4f2-4527-b958-8ed8a9077bd9"
      },
      "execution_count": null,
      "outputs": [
        {
          "output_type": "stream",
          "name": "stdout",
          "text": [
            "Downloading http://fashion-mnist.s3-website.eu-central-1.amazonaws.com/train-images-idx3-ubyte.gz\n",
            "Downloading http://fashion-mnist.s3-website.eu-central-1.amazonaws.com/train-images-idx3-ubyte.gz to ./data/FashionMNIST/raw/train-images-idx3-ubyte.gz\n"
          ]
        },
        {
          "output_type": "stream",
          "name": "stderr",
          "text": [
            "100%|██████████| 26.4M/26.4M [00:01<00:00, 15.7MB/s]\n"
          ]
        },
        {
          "output_type": "stream",
          "name": "stdout",
          "text": [
            "Extracting ./data/FashionMNIST/raw/train-images-idx3-ubyte.gz to ./data/FashionMNIST/raw\n",
            "\n",
            "Downloading http://fashion-mnist.s3-website.eu-central-1.amazonaws.com/train-labels-idx1-ubyte.gz\n",
            "Downloading http://fashion-mnist.s3-website.eu-central-1.amazonaws.com/train-labels-idx1-ubyte.gz to ./data/FashionMNIST/raw/train-labels-idx1-ubyte.gz\n"
          ]
        },
        {
          "output_type": "stream",
          "name": "stderr",
          "text": [
            "100%|██████████| 29.5k/29.5k [00:00<00:00, 272kB/s]\n"
          ]
        },
        {
          "output_type": "stream",
          "name": "stdout",
          "text": [
            "Extracting ./data/FashionMNIST/raw/train-labels-idx1-ubyte.gz to ./data/FashionMNIST/raw\n",
            "\n",
            "Downloading http://fashion-mnist.s3-website.eu-central-1.amazonaws.com/t10k-images-idx3-ubyte.gz\n",
            "Downloading http://fashion-mnist.s3-website.eu-central-1.amazonaws.com/t10k-images-idx3-ubyte.gz to ./data/FashionMNIST/raw/t10k-images-idx3-ubyte.gz\n"
          ]
        },
        {
          "output_type": "stream",
          "name": "stderr",
          "text": [
            "100%|██████████| 4.42M/4.42M [00:00<00:00, 4.91MB/s]\n"
          ]
        },
        {
          "output_type": "stream",
          "name": "stdout",
          "text": [
            "Extracting ./data/FashionMNIST/raw/t10k-images-idx3-ubyte.gz to ./data/FashionMNIST/raw\n",
            "\n",
            "Downloading http://fashion-mnist.s3-website.eu-central-1.amazonaws.com/t10k-labels-idx1-ubyte.gz\n",
            "Downloading http://fashion-mnist.s3-website.eu-central-1.amazonaws.com/t10k-labels-idx1-ubyte.gz to ./data/FashionMNIST/raw/t10k-labels-idx1-ubyte.gz\n"
          ]
        },
        {
          "output_type": "stream",
          "name": "stderr",
          "text": [
            "100%|██████████| 5.15k/5.15k [00:00<00:00, 8.16MB/s]"
          ]
        },
        {
          "output_type": "stream",
          "name": "stdout",
          "text": [
            "Extracting ./data/FashionMNIST/raw/t10k-labels-idx1-ubyte.gz to ./data/FashionMNIST/raw\n",
            "\n"
          ]
        },
        {
          "output_type": "stream",
          "name": "stderr",
          "text": [
            "\n"
          ]
        }
      ]
    },
    {
      "cell_type": "markdown",
      "source": [
        "# Veriyi Eğitim ve Test Olarak Ayırma"
      ],
      "metadata": {
        "id": "_1q-9KOdJlpZ"
      }
    },
    {
      "cell_type": "markdown",
      "source": [
        "Veri seti, modelin performansını etkili bir şekilde değerlendirebilmek için eğitim ve doğrulama setlerine bölünmüştür. Eğitim seti veri setinin %80'ini, doğrulama seti ise %20'sini içermektedir. Bu bölme işlemi, PyTorch’un random_split fonksiyonu kullanılarak rastgele gerçekleştirilmiştir."
      ],
      "metadata": {
        "id": "en0BXD9lzjSP"
      }
    },
    {
      "cell_type": "code",
      "source": [
        "# Eğitim veri setini böl\n",
        "train_size = int(0.8 * len(dataset))\n",
        "val_size = len(dataset) - train_size\n",
        "\n",
        "# random_split kullanarak bölme\n",
        "train_dataset, val_dataset = random_split(dataset, [train_size, val_size])\n"
      ],
      "metadata": {
        "id": "b4bhgdiKJi5I"
      },
      "execution_count": null,
      "outputs": []
    },
    {
      "cell_type": "markdown",
      "source": [
        "# Özellik Ölçekleme"
      ],
      "metadata": {
        "id": "LACum4m8JzKz"
      }
    },
    {
      "cell_type": "markdown",
      "source": [
        "**Eğitim ve Doğrulama Seti:**\n",
        "\n",
        "**Eğitim veri seti:** Modelin öğrenmesi için kullanılır.\n",
        "\n",
        "**Doğrulama veri seti:** Modelin performansını değerlendirmek ve aşırı öğrenmeyi (overfitting) önlemek için kullanılır.\n",
        "\n",
        "**Rastgele Bölme:**\n",
        "Rastgele bölme, veri setindeki çeşitliliği korur ve eğitim ile doğrulama setlerinin dengeli olmasını sağlar.\n"
      ],
      "metadata": {
        "id": "TkGfWA_dOQ_e"
      }
    },
    {
      "cell_type": "code",
      "source": [
        "# DataLoader'ları oluştur\n",
        "train_loader = DataLoader(train_dataset, batch_size=32, shuffle=True)  # Shuffle=True ile karıştır\n",
        "val_loader = DataLoader(val_dataset, batch_size=32, shuffle=False)     # Shuffle=False doğrulama için\n",
        "test_loader = DataLoader(test_dataset, batch_size=32, shuffle=False)   # Test veri seti\n",
        "print(f\"Train size: {len(train_dataset)}, Validation size: {len(val_dataset)}, Test size: {len(test_dataset)}\")"
      ],
      "metadata": {
        "colab": {
          "base_uri": "https://localhost:8080/"
        },
        "id": "6qkXY_pFKhIZ",
        "outputId": "576dbb0b-52f3-402d-ebb6-9dcc491cc3dd"
      },
      "execution_count": null,
      "outputs": [
        {
          "output_type": "stream",
          "name": "stdout",
          "text": [
            "Train size: 48000, Validation size: 12000, Test size: 10000\n"
          ]
        }
      ]
    },
    {
      "cell_type": "markdown",
      "source": [
        "**Özellik Ölçekleme**\n",
        "FashionMNIST veri setinde, giriş görüntüleri tensöre dönüştürüldükten sonra normalize edilmektedir. transforms.Normalize dönüşümü kullanılarak, her bir piksel değeri 0 ortalama ve 1 standart sapma ile ölçeklenmiştir. Bu, veri ön işleme aşamasını kolaylaştırmakta ve modelin verileri daha etkili bir şekilde işlemesine olanak tanımaktadır.\n",
        "\n",
        "FashionMNIST gibi PyTorch veri setlerinde normalize işlemi dönüşüm sırasında yapılıyor (transforms.Normalize ile). Bu nedenle ayrıca bir ölçekleme yapmanıza gerek yok.\n",
        "\n"
      ],
      "metadata": {
        "id": "ChvVsmSGKk7a"
      }
    },
    {
      "cell_type": "markdown",
      "source": [
        "# MLP Modelini Oluşturma ve Eğitme\n",
        "\n",
        "\n",
        "MLP, tam bağlantılı katmanlar (fully connected layers) ile veri sınıflandırması yapar. Aşağıdaki adımları izleyebiliriz:\n",
        "\n",
        "3 moodeli farklı hiper parametlerle eğittim aşağıdaki tabloda farklılıkları yazmaktadır."
      ],
      "metadata": {
        "id": "kdTkRh5SK_li"
      }
    },
    {
      "cell_type": "markdown",
      "source": [
        "![image.png](data:image/png;base64,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)"
      ],
      "metadata": {
        "id": "A1CVv0Oh953c"
      }
    },
    {
      "cell_type": "code",
      "source": [
        "import torch.nn as nn\n",
        "import torch.nn.functional as F\n",
        "\n",
        "class MLP(nn.Module):\n",
        "    def __init__(self, input_size, hidden_size, num_classes):\n",
        "        super(MLP, self).__init__()\n",
        "        self.fc1 = nn.Linear(input_size, hidden_size)  # İlk tam bağlantılı katman\n",
        "        self.fc2 = nn.Linear(hidden_size, hidden_size) # İkinci tam bağlantılı katman\n",
        "        self.fc3 = nn.Linear(hidden_size, num_classes) # Çıkış katmanı\n",
        "\n",
        "    def forward(self, x):\n",
        "        x = x.view(x.size(0), -1)  # Giriş tensörünü düzleştir\n",
        "        x = F.relu(self.fc1(x))   # İlk katman ve ReLU aktivasyonu\n",
        "        x = F.relu(self.fc2(x))   # İkinci katman ve ReLU aktivasyonu\n",
        "        x = self.fc3(x)           # Çıkış katmanı (Softmax kullanılacak)\n",
        "        return x"
      ],
      "metadata": {
        "id": "2RDqZ2t1Ki0W"
      },
      "execution_count": null,
      "outputs": []
    },
    {
      "cell_type": "markdown",
      "source": [
        "Adım 2: Modelin Eğitilmesi"
      ],
      "metadata": {
        "id": "IKyQv3TYLIlx"
      }
    },
    {
      "cell_type": "code",
      "source": [
        "# Model, optimizasyon ve kayıp fonksiyonu\n",
        "input_size = 28 * 28  # FashionMNIST görüntüleri 28x28 boyutunda\n",
        "hidden_size = 128     # Gizli katmandaki nöron sayısı\n",
        "num_classes = 10      # 10 sınıf (FashionMNIST'in sınıfları)\n",
        "learning_rate = 0.001\n",
        "\n",
        "mlp_model1 = MLP(input_size, hidden_size, num_classes)\n",
        "criterion = nn.CrossEntropyLoss()  # Sınıflandırma için uygun kayıp fonksiyonu\n",
        "optimizer = torch.optim.Adam(mlp_model1.parameters(), lr=learning_rate)  # Adam optimizasyonu\n",
        "\n",
        "# GPU desteği kontrolü\n",
        "device = torch.device('cuda' if torch.cuda.is_available() else 'cpu')\n",
        "mlp_model1.to(device)"
      ],
      "metadata": {
        "colab": {
          "base_uri": "https://localhost:8080/"
        },
        "id": "G3hr24KELJhX",
        "outputId": "a9da6d76-9c7f-4a0c-84c8-c3d3ac250b2a"
      },
      "execution_count": null,
      "outputs": [
        {
          "output_type": "execute_result",
          "data": {
            "text/plain": [
              "MLP(\n",
              "  (fc1): Linear(in_features=784, out_features=128, bias=True)\n",
              "  (fc2): Linear(in_features=128, out_features=128, bias=True)\n",
              "  (fc3): Linear(in_features=128, out_features=10, bias=True)\n",
              ")"
            ]
          },
          "metadata": {},
          "execution_count": 6
        }
      ]
    },
    {
      "cell_type": "markdown",
      "source": [
        "Adım 3: Eğitim Döngüsü"
      ],
      "metadata": {
        "id": "VVQWwSpdLOui"
      }
    },
    {
      "cell_type": "code",
      "source": [
        "num_epochs = 100  # Eğitim tekrar sayısı\n",
        "mlp_train_losses = []\n",
        "\n",
        "\n",
        "for epoch in range(num_epochs):\n",
        "    mlp_model1.train()  # Eğitim modunu aktif et\n",
        "    train_loss = 0.0\n",
        "\n",
        "    for images, labels in train_loader:\n",
        "        images, labels = images.to(device), labels.to(device)\n",
        "\n",
        "        # İleri geçiş\n",
        "        outputs = mlp_model1(images)\n",
        "        loss = criterion(outputs, labels)\n",
        "\n",
        "        # Geri yayılım ve optimizasyon\n",
        "        optimizer.zero_grad()\n",
        "        loss.backward()\n",
        "        optimizer.step()\n",
        "\n",
        "        train_loss += loss.item()\n",
        "        mlp_train_losses.append(train_loss / len(train_loader))  # Loss kaydı\n",
        "\n",
        "\n",
        "    # Eğitim kaybını yazdır\n",
        "    print(f\"Epoch [{epoch+1}/{num_epochs}], Loss: {train_loss/len(train_loader):.4f}\")"
      ],
      "metadata": {
        "colab": {
          "base_uri": "https://localhost:8080/"
        },
        "id": "DcpoioygLOeM",
        "outputId": "eab5dca5-3685-416e-95e3-7817df063739"
      },
      "execution_count": null,
      "outputs": [
        {
          "output_type": "stream",
          "name": "stdout",
          "text": [
            "Epoch [1/100], Loss: 0.5141\n",
            "Epoch [2/100], Loss: 0.3825\n",
            "Epoch [3/100], Loss: 0.3487\n",
            "Epoch [4/100], Loss: 0.3207\n",
            "Epoch [5/100], Loss: 0.3031\n",
            "Epoch [6/100], Loss: 0.2882\n",
            "Epoch [7/100], Loss: 0.2712\n",
            "Epoch [8/100], Loss: 0.2609\n",
            "Epoch [9/100], Loss: 0.2468\n",
            "Epoch [10/100], Loss: 0.2382\n",
            "Epoch [11/100], Loss: 0.2272\n",
            "Epoch [12/100], Loss: 0.2192\n",
            "Epoch [13/100], Loss: 0.2096\n",
            "Epoch [14/100], Loss: 0.2007\n",
            "Epoch [15/100], Loss: 0.1966\n",
            "Epoch [16/100], Loss: 0.1869\n",
            "Epoch [17/100], Loss: 0.1777\n",
            "Epoch [18/100], Loss: 0.1766\n",
            "Epoch [19/100], Loss: 0.1668\n",
            "Epoch [20/100], Loss: 0.1636\n",
            "Epoch [21/100], Loss: 0.1590\n",
            "Epoch [22/100], Loss: 0.1492\n",
            "Epoch [23/100], Loss: 0.1480\n",
            "Epoch [24/100], Loss: 0.1397\n",
            "Epoch [25/100], Loss: 0.1351\n",
            "Epoch [26/100], Loss: 0.1321\n",
            "Epoch [27/100], Loss: 0.1288\n",
            "Epoch [28/100], Loss: 0.1253\n",
            "Epoch [29/100], Loss: 0.1207\n",
            "Epoch [30/100], Loss: 0.1191\n",
            "Epoch [31/100], Loss: 0.1141\n",
            "Epoch [32/100], Loss: 0.1122\n",
            "Epoch [33/100], Loss: 0.1063\n",
            "Epoch [34/100], Loss: 0.1062\n",
            "Epoch [35/100], Loss: 0.1025\n",
            "Epoch [36/100], Loss: 0.0990\n",
            "Epoch [37/100], Loss: 0.1014\n",
            "Epoch [38/100], Loss: 0.0953\n",
            "Epoch [39/100], Loss: 0.0933\n",
            "Epoch [40/100], Loss: 0.0881\n",
            "Epoch [41/100], Loss: 0.0908\n",
            "Epoch [42/100], Loss: 0.0861\n",
            "Epoch [43/100], Loss: 0.0861\n",
            "Epoch [44/100], Loss: 0.0825\n",
            "Epoch [45/100], Loss: 0.0796\n",
            "Epoch [46/100], Loss: 0.0819\n",
            "Epoch [47/100], Loss: 0.0759\n",
            "Epoch [48/100], Loss: 0.0800\n",
            "Epoch [49/100], Loss: 0.0718\n",
            "Epoch [50/100], Loss: 0.0777\n",
            "Epoch [51/100], Loss: 0.0751\n",
            "Epoch [52/100], Loss: 0.0657\n",
            "Epoch [53/100], Loss: 0.0768\n",
            "Epoch [54/100], Loss: 0.0645\n",
            "Epoch [55/100], Loss: 0.0710\n",
            "Epoch [56/100], Loss: 0.0652\n",
            "Epoch [57/100], Loss: 0.0675\n",
            "Epoch [58/100], Loss: 0.0653\n",
            "Epoch [59/100], Loss: 0.0647\n",
            "Epoch [60/100], Loss: 0.0629\n",
            "Epoch [61/100], Loss: 0.0574\n",
            "Epoch [62/100], Loss: 0.0667\n",
            "Epoch [63/100], Loss: 0.0542\n",
            "Epoch [64/100], Loss: 0.0605\n",
            "Epoch [65/100], Loss: 0.0587\n",
            "Epoch [66/100], Loss: 0.0569\n",
            "Epoch [67/100], Loss: 0.0622\n",
            "Epoch [68/100], Loss: 0.0566\n",
            "Epoch [69/100], Loss: 0.0536\n",
            "Epoch [70/100], Loss: 0.0576\n",
            "Epoch [71/100], Loss: 0.0592\n",
            "Epoch [72/100], Loss: 0.0454\n",
            "Epoch [73/100], Loss: 0.0553\n",
            "Epoch [74/100], Loss: 0.0544\n",
            "Epoch [75/100], Loss: 0.0502\n",
            "Epoch [76/100], Loss: 0.0518\n",
            "Epoch [77/100], Loss: 0.0458\n",
            "Epoch [78/100], Loss: 0.0579\n",
            "Epoch [79/100], Loss: 0.0454\n",
            "Epoch [80/100], Loss: 0.0491\n",
            "Epoch [81/100], Loss: 0.0433\n",
            "Epoch [82/100], Loss: 0.0429\n",
            "Epoch [83/100], Loss: 0.0559\n",
            "Epoch [84/100], Loss: 0.0462\n",
            "Epoch [85/100], Loss: 0.0448\n",
            "Epoch [86/100], Loss: 0.0499\n",
            "Epoch [87/100], Loss: 0.0471\n",
            "Epoch [88/100], Loss: 0.0547\n",
            "Epoch [89/100], Loss: 0.0412\n",
            "Epoch [90/100], Loss: 0.0465\n",
            "Epoch [91/100], Loss: 0.0485\n",
            "Epoch [92/100], Loss: 0.0420\n",
            "Epoch [93/100], Loss: 0.0445\n",
            "Epoch [94/100], Loss: 0.0525\n",
            "Epoch [95/100], Loss: 0.0410\n",
            "Epoch [96/100], Loss: 0.0446\n",
            "Epoch [97/100], Loss: 0.0388\n",
            "Epoch [98/100], Loss: 0.0457\n",
            "Epoch [99/100], Loss: 0.0393\n",
            "Epoch [100/100], Loss: 0.0423\n"
          ]
        }
      ]
    },
    {
      "cell_type": "markdown",
      "source": [
        "Adım 4: Modeli Değerlendirme"
      ],
      "metadata": {
        "id": "HJYv2z6JLTr2"
      }
    },
    {
      "cell_type": "code",
      "source": [
        "mlp_model1.eval()  # Değerlendirme modunu aktif et\n",
        "correct = 0\n",
        "total = 0\n",
        "\n",
        "with torch.no_grad():  # Gradyan hesaplama kapalı\n",
        "    for images, labels in test_loader:\n",
        "        images, labels = images.to(device), labels.to(device)\n",
        "        outputs = mlp_model1(images)\n",
        "        _, predicted = torch.max(outputs.data, 1)\n",
        "        total += labels.size(0)\n",
        "        correct += (predicted == labels).sum().item()\n",
        "\n",
        "accuracy = 100 * correct / total\n",
        "print(f'Test Accuracy: {accuracy:.2f}%')\n"
      ],
      "metadata": {
        "colab": {
          "base_uri": "https://localhost:8080/"
        },
        "id": "qwrWxoF9LMI6",
        "outputId": "bf7db943-ebad-4520-945b-f51782b8e651"
      },
      "execution_count": null,
      "outputs": [
        {
          "output_type": "stream",
          "name": "stdout",
          "text": [
            "Test Accuracy: 87.75%\n"
          ]
        }
      ]
    },
    {
      "cell_type": "markdown",
      "source": [
        "# MLP Model2\n",
        "\n",
        "* Learning rate azaltıldı."
      ],
      "metadata": {
        "id": "KOVDW-tyuauV"
      }
    },
    {
      "cell_type": "markdown",
      "source": [
        "Model 2'de öğrenme oranı 0.001'den 0.0001'e düşürülmüştür.\n",
        "Daha düşük öğrenme oranı, modelin parametrelerini daha küçük adımlarla güncellemesi anlamına gelir. Bu, daha yavaş ancak daha istikrarlı bir öğrenme süreci sağlar ve modelin daha doğru bir şekilde uyum sağlamasına yardımcı olabilir.\n"
      ],
      "metadata": {
        "id": "Equ8-Zk6fW3c"
      }
    },
    {
      "cell_type": "markdown",
      "source": [
        "**Avantajlar:**\n",
        "\n",
        "**Daha Az Overfitting:** Düşük öğrenme oranı, parametrelerin çok hızlı uyum sağlamasını engeller, bu da genelde overfitting riskini azaltır.\n",
        "\n",
        "**Daha Hassas Öğrenme:** Model, daha hassas bir şekilde optimal parametreleri bulabilir."
      ],
      "metadata": {
        "id": "G0rB2kSRfbiF"
      }
    },
    {
      "cell_type": "code",
      "source": [
        "# Model, optimizasyon ve kayıp fonksiyonu\n",
        "input_size = 28 * 28  # FashionMNIST görüntüleri 28x28 boyutunda\n",
        "hidden_size = 128     # Gizli katmandaki nöron sayısı\n",
        "num_classes = 10      # 10 sınıf (FashionMNIST'in sınıfları)\n",
        "learning_rate = 0.0001\n",
        "\n",
        "mlp_model2 = MLP(input_size, hidden_size, num_classes)\n",
        "criterion = nn.CrossEntropyLoss()  # Sınıflandırma için uygun kayıp fonksiyonu\n",
        "optimizer = torch.optim.Adam(mlp_model2.parameters(), lr=learning_rate)  # Adam optimizasyonu\n",
        "\n",
        "# GPU desteği kontrolü\n",
        "device = torch.device('cuda' if torch.cuda.is_available() else 'cpu')\n",
        "mlp_model2.to(device)"
      ],
      "metadata": {
        "colab": {
          "base_uri": "https://localhost:8080/"
        },
        "outputId": "b3797f49-cd87-4e94-fbce-7097df1668f3",
        "id": "8gT9GoSxuBqG"
      },
      "execution_count": null,
      "outputs": [
        {
          "output_type": "execute_result",
          "data": {
            "text/plain": [
              "MLP(\n",
              "  (fc1): Linear(in_features=784, out_features=128, bias=True)\n",
              "  (fc2): Linear(in_features=128, out_features=128, bias=True)\n",
              "  (fc3): Linear(in_features=128, out_features=10, bias=True)\n",
              ")"
            ]
          },
          "metadata": {},
          "execution_count": 9
        }
      ]
    },
    {
      "cell_type": "code",
      "source": [
        "num_epochs = 100  # Eğitim tekrar sayısı\n",
        "mlp_train_losses2 = []\n",
        "\n",
        "\n",
        "for epoch in range(num_epochs):\n",
        "    mlp_model2.train()  # Eğitim modunu aktif et\n",
        "    train_loss = 0.0\n",
        "\n",
        "    for images, labels in train_loader:\n",
        "        images, labels = images.to(device), labels.to(device)\n",
        "\n",
        "        # İleri geçiş\n",
        "        outputs = mlp_model2(images)\n",
        "        loss = criterion(outputs, labels)\n",
        "\n",
        "        # Geri yayılım ve optimizasyon\n",
        "        optimizer.zero_grad()\n",
        "        loss.backward()\n",
        "        optimizer.step()\n",
        "\n",
        "        train_loss += loss.item()\n",
        "        mlp_train_losses2.append(train_loss / len(train_loader))  # Loss kaydı\n",
        "\n",
        "\n",
        "    # Eğitim kaybını yazdır\n",
        "    print(f\"Mlp model2 Epoch [{epoch+1}/{num_epochs}], Loss: {train_loss/len(train_loader):.4f}\")"
      ],
      "metadata": {
        "colab": {
          "base_uri": "https://localhost:8080/"
        },
        "id": "Q6My80whuaAM",
        "outputId": "5e7cf684-f549-42b0-8711-3096c65cffbf"
      },
      "execution_count": null,
      "outputs": [
        {
          "output_type": "stream",
          "name": "stdout",
          "text": [
            "Mlp model2 Epoch [1/100], Loss: 0.7067\n",
            "Mlp model2 Epoch [2/100], Loss: 0.4612\n",
            "Mlp model2 Epoch [3/100], Loss: 0.4169\n",
            "Mlp model2 Epoch [4/100], Loss: 0.3901\n",
            "Mlp model2 Epoch [5/100], Loss: 0.3704\n",
            "Mlp model2 Epoch [6/100], Loss: 0.3553\n",
            "Mlp model2 Epoch [7/100], Loss: 0.3416\n",
            "Mlp model2 Epoch [8/100], Loss: 0.3298\n",
            "Mlp model2 Epoch [9/100], Loss: 0.3205\n",
            "Mlp model2 Epoch [10/100], Loss: 0.3111\n",
            "Mlp model2 Epoch [11/100], Loss: 0.3016\n",
            "Mlp model2 Epoch [12/100], Loss: 0.2928\n",
            "Mlp model2 Epoch [13/100], Loss: 0.2866\n",
            "Mlp model2 Epoch [14/100], Loss: 0.2800\n",
            "Mlp model2 Epoch [15/100], Loss: 0.2734\n",
            "Mlp model2 Epoch [16/100], Loss: 0.2671\n",
            "Mlp model2 Epoch [17/100], Loss: 0.2611\n",
            "Mlp model2 Epoch [18/100], Loss: 0.2555\n",
            "Mlp model2 Epoch [19/100], Loss: 0.2493\n",
            "Mlp model2 Epoch [20/100], Loss: 0.2443\n",
            "Mlp model2 Epoch [21/100], Loss: 0.2399\n",
            "Mlp model2 Epoch [22/100], Loss: 0.2350\n",
            "Mlp model2 Epoch [23/100], Loss: 0.2307\n",
            "Mlp model2 Epoch [24/100], Loss: 0.2266\n",
            "Mlp model2 Epoch [25/100], Loss: 0.2217\n",
            "Mlp model2 Epoch [26/100], Loss: 0.2172\n",
            "Mlp model2 Epoch [27/100], Loss: 0.2134\n",
            "Mlp model2 Epoch [28/100], Loss: 0.2086\n",
            "Mlp model2 Epoch [29/100], Loss: 0.2064\n",
            "Mlp model2 Epoch [30/100], Loss: 0.2016\n",
            "Mlp model2 Epoch [31/100], Loss: 0.1987\n",
            "Mlp model2 Epoch [32/100], Loss: 0.1927\n",
            "Mlp model2 Epoch [33/100], Loss: 0.1901\n",
            "Mlp model2 Epoch [34/100], Loss: 0.1854\n",
            "Mlp model2 Epoch [35/100], Loss: 0.1832\n",
            "Mlp model2 Epoch [36/100], Loss: 0.1785\n",
            "Mlp model2 Epoch [37/100], Loss: 0.1765\n",
            "Mlp model2 Epoch [38/100], Loss: 0.1727\n",
            "Mlp model2 Epoch [39/100], Loss: 0.1696\n",
            "Mlp model2 Epoch [40/100], Loss: 0.1670\n",
            "Mlp model2 Epoch [41/100], Loss: 0.1636\n",
            "Mlp model2 Epoch [42/100], Loss: 0.1604\n",
            "Mlp model2 Epoch [43/100], Loss: 0.1565\n",
            "Mlp model2 Epoch [44/100], Loss: 0.1535\n",
            "Mlp model2 Epoch [45/100], Loss: 0.1514\n",
            "Mlp model2 Epoch [46/100], Loss: 0.1478\n",
            "Mlp model2 Epoch [47/100], Loss: 0.1450\n",
            "Mlp model2 Epoch [48/100], Loss: 0.1412\n",
            "Mlp model2 Epoch [49/100], Loss: 0.1388\n",
            "Mlp model2 Epoch [50/100], Loss: 0.1360\n",
            "Mlp model2 Epoch [51/100], Loss: 0.1336\n",
            "Mlp model2 Epoch [52/100], Loss: 0.1314\n",
            "Mlp model2 Epoch [53/100], Loss: 0.1278\n",
            "Mlp model2 Epoch [54/100], Loss: 0.1256\n",
            "Mlp model2 Epoch [55/100], Loss: 0.1238\n",
            "Mlp model2 Epoch [56/100], Loss: 0.1212\n",
            "Mlp model2 Epoch [57/100], Loss: 0.1192\n",
            "Mlp model2 Epoch [58/100], Loss: 0.1146\n",
            "Mlp model2 Epoch [59/100], Loss: 0.1138\n",
            "Mlp model2 Epoch [60/100], Loss: 0.1110\n",
            "Mlp model2 Epoch [61/100], Loss: 0.1103\n",
            "Mlp model2 Epoch [62/100], Loss: 0.1075\n",
            "Mlp model2 Epoch [63/100], Loss: 0.1056\n",
            "Mlp model2 Epoch [64/100], Loss: 0.1032\n",
            "Mlp model2 Epoch [65/100], Loss: 0.1013\n",
            "Mlp model2 Epoch [66/100], Loss: 0.0991\n",
            "Mlp model2 Epoch [67/100], Loss: 0.0971\n",
            "Mlp model2 Epoch [68/100], Loss: 0.0949\n",
            "Mlp model2 Epoch [69/100], Loss: 0.0928\n",
            "Mlp model2 Epoch [70/100], Loss: 0.0912\n",
            "Mlp model2 Epoch [71/100], Loss: 0.0890\n",
            "Mlp model2 Epoch [72/100], Loss: 0.0872\n",
            "Mlp model2 Epoch [73/100], Loss: 0.0847\n",
            "Mlp model2 Epoch [74/100], Loss: 0.0848\n",
            "Mlp model2 Epoch [75/100], Loss: 0.0826\n",
            "Mlp model2 Epoch [76/100], Loss: 0.0807\n",
            "Mlp model2 Epoch [77/100], Loss: 0.0784\n",
            "Mlp model2 Epoch [78/100], Loss: 0.0774\n",
            "Mlp model2 Epoch [79/100], Loss: 0.0752\n",
            "Mlp model2 Epoch [80/100], Loss: 0.0734\n",
            "Mlp model2 Epoch [81/100], Loss: 0.0721\n",
            "Mlp model2 Epoch [82/100], Loss: 0.0706\n",
            "Mlp model2 Epoch [83/100], Loss: 0.0693\n",
            "Mlp model2 Epoch [84/100], Loss: 0.0683\n",
            "Mlp model2 Epoch [85/100], Loss: 0.0655\n",
            "Mlp model2 Epoch [86/100], Loss: 0.0651\n",
            "Mlp model2 Epoch [87/100], Loss: 0.0635\n",
            "Mlp model2 Epoch [88/100], Loss: 0.0620\n",
            "Mlp model2 Epoch [89/100], Loss: 0.0610\n",
            "Mlp model2 Epoch [90/100], Loss: 0.0599\n",
            "Mlp model2 Epoch [91/100], Loss: 0.0594\n",
            "Mlp model2 Epoch [92/100], Loss: 0.0553\n",
            "Mlp model2 Epoch [93/100], Loss: 0.0571\n",
            "Mlp model2 Epoch [94/100], Loss: 0.0543\n",
            "Mlp model2 Epoch [95/100], Loss: 0.0529\n",
            "Mlp model2 Epoch [96/100], Loss: 0.0529\n",
            "Mlp model2 Epoch [97/100], Loss: 0.0522\n",
            "Mlp model2 Epoch [98/100], Loss: 0.0498\n",
            "Mlp model2 Epoch [99/100], Loss: 0.0489\n",
            "Mlp model2 Epoch [100/100], Loss: 0.0473\n"
          ]
        }
      ]
    },
    {
      "cell_type": "markdown",
      "source": [
        "**Model 2'nin Özellikleri**\n",
        "\n",
        "**Düşük Öğrenme Oranı:**\n",
        "\n",
        "learning_rate = 0.0001 ile model, parametreleri daha küçük adımlarla günceller. Bu, modelin daha hassas bir öğrenme yapmasına olanak tanır.\n",
        "\n",
        "**Avantajlar:**\n",
        "\n",
        "Daha az overfitting riski.\n",
        "Parametre güncellemeleri daha istikrarlı bir şekilde gerçekleşir.\n",
        "\n",
        "**Dezavantajlar:**\n",
        "\n",
        "Öğrenme hızı düşebilir ve model, global minimuma ulaşmak için daha fazla epoch'a ihtiyaç duyabilir."
      ],
      "metadata": {
        "id": "kmX4m_rWiIb2"
      }
    },
    {
      "cell_type": "code",
      "source": [
        "mlp_model2.eval()  # Değerlendirme modunu aktif et\n",
        "correct = 0\n",
        "total = 0\n",
        "\n",
        "with torch.no_grad():  # Gradyan hesaplama kapalı\n",
        "    for images, labels in test_loader:\n",
        "        images, labels = images.to(device), labels.to(device)\n",
        "        outputs = mlp_model2(images)\n",
        "        _, predicted = torch.max(outputs.data, 1)\n",
        "        total += labels.size(0)\n",
        "        correct += (predicted == labels).sum().item()\n",
        "\n",
        "accuracy = 100 * correct / total\n",
        "print(f'Mlp model 2 Test Accuracy: {accuracy:.2f}%')"
      ],
      "metadata": {
        "colab": {
          "base_uri": "https://localhost:8080/"
        },
        "id": "0BqSsoDcu8GZ",
        "outputId": "137a5845-912b-40ab-d266-ac7606688a33"
      },
      "execution_count": null,
      "outputs": [
        {
          "output_type": "stream",
          "name": "stdout",
          "text": [
            "Mlp model 2 Test Accuracy: 88.11%\n"
          ]
        }
      ]
    },
    {
      "cell_type": "markdown",
      "source": [
        "**Test Doğruluğu:**\n",
        "\n",
        "Test seti üzerindeki doğruluk %88.30 olarak hesaplanmıştır. Bu, Model 2'nin düşük öğrenme oranıyla istikrarlı bir şekilde eğitim aldığı ve eğitim verisinden genelleme yapabildiğini göstermektedir.\n",
        "\n",
        "**Model 1 ile Karşılaştırma:**\n",
        "\n",
        "Model 1, test seti üzerinde %87.89 doğruluk elde etmişti. Model 2 ise biraz daha yüksek bir doğruluk (%88.30) sergiliyor.\n",
        "Bu fark, Model 2'nin daha düşük bir öğrenme oranı (0.0001) ile daha hassas bir öğrenme gerçekleştirmesinden kaynaklanıyor olabilir."
      ],
      "metadata": {
        "id": "1UBmQ2KGi3XH"
      }
    },
    {
      "cell_type": "markdown",
      "source": [
        "# IMPROVED MLP"
      ],
      "metadata": {
        "id": "LgtNDG_H-OIS"
      }
    },
    {
      "cell_type": "code",
      "source": [
        "import torch.nn as nn\n",
        "import torch.nn.functional as F\n",
        "\n",
        "class EnhancedMLP(nn.Module):\n",
        "    def __init__(self, input_size, hidden_size, num_classes, dropout_rate=0.5):\n",
        "        super(EnhancedMLP, self).__init__()\n",
        "        # Tam bağlantılı katmanlar\n",
        "        self.fc1 = nn.Linear(input_size, hidden_size)\n",
        "        self.fc2 = nn.Linear(hidden_size, hidden_size)\n",
        "        self.fc3 = nn.Linear(hidden_size, hidden_size)\n",
        "        self.fc4 = nn.Linear(hidden_size, hidden_size)\n",
        "        self.fc5 = nn.Linear(hidden_size, num_classes)\n",
        "\n",
        "        # Batch Normalization\n",
        "        self.bn1 = nn.BatchNorm1d(hidden_size)\n",
        "        self.bn2 = nn.BatchNorm1d(hidden_size)\n",
        "        self.bn3 = nn.BatchNorm1d(hidden_size)\n",
        "        self.bn4 = nn.BatchNorm1d(hidden_size)\n",
        "\n",
        "        # Dropout\n",
        "        self.dropout = nn.Dropout(dropout_rate)\n",
        "\n",
        "    def forward(self, x):\n",
        "        # Giriş tensörünü düzleştir\n",
        "        x = x.view(x.size(0), -1)\n",
        "\n",
        "        # İlk katman, Batch Normalization ve Dropout\n",
        "        x = F.relu(self.bn1(self.fc1(x)))\n",
        "        x = self.dropout(x)\n",
        "\n",
        "        # İkinci katman, Batch Normalization ve Dropout\n",
        "        x = F.relu(self.bn2(self.fc2(x)))\n",
        "        x = self.dropout(x)\n",
        "\n",
        "        # Üçüncü katman, Batch Normalization ve Dropout\n",
        "        x = F.relu(self.bn3(self.fc3(x)))\n",
        "        x = self.dropout(x)\n",
        "\n",
        "        # Dördüncü katman, Batch Normalization ve Dropout\n",
        "        x = F.relu(self.bn4(self.fc4(x)))\n",
        "        x = self.dropout(x)\n",
        "\n",
        "        # Çıkış katmanı\n",
        "        x = self.fc5(x)\n",
        "\n",
        "        # Eğer softmax gerekiyorsa, burada eklenebilir (örn. sınıflandırma başına olasılık)\n",
        "        # x = F.softmax(x, dim=1)\n",
        "\n",
        "        return x\n"
      ],
      "metadata": {
        "id": "3pX_jpw3-RpV"
      },
      "execution_count": null,
      "outputs": []
    },
    {
      "cell_type": "markdown",
      "source": [
        "# Eklenen Özellikler:\n",
        "**Dropout:**\n",
        "\n",
        "Her tam bağlantılı katmandan sonra aşırı öğrenmeyi önlemek için dropout ekledim.\n",
        "Dropout oranını dropout_rate  (varsayılan: 0.5).\n",
        "\n",
        "**Batch Normalization:**\n",
        "\n",
        "Her tam bağlantılı katmandan sonra batch normalization ekledim.\n",
        "Bu, modelin daha hızlı ve stabil öğrenmesini sağlar.\n",
        "\n",
        "**Aktivasyon Fonksiyonları:**\n",
        "\n",
        "ReLU aktivasyon fonksiyonu kullanıldı.\n",
        "\n",
        "**Softmax Çıkışı:**\n",
        "\n",
        "Eğer nn.CrossEntropyLoss kullanıyorsa, softmax eklemenize gerek yok.Ancak softmax'li bir çıktı gerekiyorsa kodda ilgili satırda aktif hale getirilebilir.\n",
        "\n",
        "**Giriş Tensörünün Düzleştirilmesi:**\n",
        "\n",
        "x.view(x.size(0), -1) kullanarak giriş verisini düzleştirdim."
      ],
      "metadata": {
        "id": "JKpIoKBb_KxH"
      }
    },
    {
      "cell_type": "code",
      "source": [
        "# Modeli oluştur\n",
        "input_size = 28*28  # Örneğin MNIST için 28x28\n",
        "hidden_size = 256\n",
        "num_classes = 10\n",
        "dropout_rate = 0.5\n",
        "num_epochs = 80\n",
        "\n",
        "mlp_model3 = EnhancedMLP(input_size, hidden_size, num_classes, dropout_rate)\n",
        "\n",
        "# Modelin özetini yazdır (isteğe bağlı)\n",
        "print(mlp_model3)\n"
      ],
      "metadata": {
        "colab": {
          "base_uri": "https://localhost:8080/"
        },
        "id": "5CWt9CRy_Hc7",
        "outputId": "57c0215d-8d8b-49a9-9132-2f753c54d3ee"
      },
      "execution_count": null,
      "outputs": [
        {
          "output_type": "stream",
          "name": "stdout",
          "text": [
            "EnhancedMLP(\n",
            "  (fc1): Linear(in_features=784, out_features=256, bias=True)\n",
            "  (fc2): Linear(in_features=256, out_features=256, bias=True)\n",
            "  (fc3): Linear(in_features=256, out_features=256, bias=True)\n",
            "  (fc4): Linear(in_features=256, out_features=256, bias=True)\n",
            "  (fc5): Linear(in_features=256, out_features=10, bias=True)\n",
            "  (bn1): BatchNorm1d(256, eps=1e-05, momentum=0.1, affine=True, track_running_stats=True)\n",
            "  (bn2): BatchNorm1d(256, eps=1e-05, momentum=0.1, affine=True, track_running_stats=True)\n",
            "  (bn3): BatchNorm1d(256, eps=1e-05, momentum=0.1, affine=True, track_running_stats=True)\n",
            "  (bn4): BatchNorm1d(256, eps=1e-05, momentum=0.1, affine=True, track_running_stats=True)\n",
            "  (dropout): Dropout(p=0.5, inplace=False)\n",
            ")\n"
          ]
        }
      ]
    },
    {
      "cell_type": "code",
      "source": [
        "optimizer = torch.optim.Adam(mlp_model3.parameters(), lr=0.001)\n",
        "scheduler = torch.optim.lr_scheduler.StepLR(optimizer, step_size=10, gamma=0.1)"
      ],
      "metadata": {
        "id": "dqIl4Taz_c-9"
      },
      "execution_count": null,
      "outputs": []
    },
    {
      "cell_type": "code",
      "source": [
        "# GPU kullanımı için modelin ayarlanması\n",
        "device = torch.device('cuda' if torch.cuda.is_available() else 'cpu')\n",
        "mlp_model3.to(device)\n",
        "mlp_train_losses3 = []\n",
        "\n",
        "# Eğitim döngüsü\n",
        "for epoch in range(num_epochs):\n",
        "    mlp_model3.train()  # Eğitim modunu etkinleştir\n",
        "    running_loss = 0.0\n",
        "    for images, labels in train_loader:\n",
        "        images, labels = images.to(device), labels.to(device)\n",
        "\n",
        "        # Optimizasyonu sıfırla\n",
        "        optimizer.zero_grad()\n",
        "\n",
        "        # İleri yayılım\n",
        "        outputs = mlp_model3(images)\n",
        "        loss = criterion(outputs, labels)\n",
        "\n",
        "        # Geri yayılım ve ağırlık güncelleme\n",
        "        loss.backward()\n",
        "        optimizer.step()\n",
        "\n",
        "        running_loss += loss.item()\n",
        "        mlp_train_losses3.append(running_loss / len(train_loader))  # Loss kaydı\n",
        "    # Epoch başına ortalama kaybı yazdır\n",
        "    print(f\"Epoch [{epoch+1}/{num_epochs}], Loss: {running_loss/len(train_loader):.4f}\")"
      ],
      "metadata": {
        "colab": {
          "base_uri": "https://localhost:8080/"
        },
        "id": "8-ok1HG1_jXQ",
        "outputId": "2e4e1ff2-d5b9-4d4c-f61c-981941889743"
      },
      "execution_count": null,
      "outputs": [
        {
          "output_type": "stream",
          "name": "stdout",
          "text": [
            "Epoch [1/80], Loss: 0.7656\n",
            "Epoch [2/80], Loss: 0.5824\n",
            "Epoch [3/80], Loss: 0.5361\n",
            "Epoch [4/80], Loss: 0.5032\n",
            "Epoch [5/80], Loss: 0.4792\n",
            "Epoch [6/80], Loss: 0.4667\n",
            "Epoch [7/80], Loss: 0.4520\n",
            "Epoch [8/80], Loss: 0.4412\n",
            "Epoch [9/80], Loss: 0.4276\n",
            "Epoch [10/80], Loss: 0.4230\n",
            "Epoch [11/80], Loss: 0.4096\n",
            "Epoch [12/80], Loss: 0.4068\n",
            "Epoch [13/80], Loss: 0.3982\n",
            "Epoch [14/80], Loss: 0.3917\n",
            "Epoch [15/80], Loss: 0.3835\n",
            "Epoch [16/80], Loss: 0.3804\n",
            "Epoch [17/80], Loss: 0.3770\n",
            "Epoch [18/80], Loss: 0.3700\n",
            "Epoch [19/80], Loss: 0.3661\n",
            "Epoch [20/80], Loss: 0.3599\n",
            "Epoch [21/80], Loss: 0.3589\n",
            "Epoch [22/80], Loss: 0.3529\n",
            "Epoch [23/80], Loss: 0.3533\n",
            "Epoch [24/80], Loss: 0.3509\n",
            "Epoch [25/80], Loss: 0.3487\n",
            "Epoch [26/80], Loss: 0.3447\n",
            "Epoch [27/80], Loss: 0.3413\n",
            "Epoch [28/80], Loss: 0.3375\n",
            "Epoch [29/80], Loss: 0.3289\n",
            "Epoch [30/80], Loss: 0.3296\n",
            "Epoch [31/80], Loss: 0.3296\n",
            "Epoch [32/80], Loss: 0.3265\n",
            "Epoch [33/80], Loss: 0.3272\n",
            "Epoch [34/80], Loss: 0.3223\n",
            "Epoch [35/80], Loss: 0.3199\n",
            "Epoch [36/80], Loss: 0.3178\n",
            "Epoch [37/80], Loss: 0.3154\n",
            "Epoch [38/80], Loss: 0.3114\n",
            "Epoch [39/80], Loss: 0.3100\n",
            "Epoch [40/80], Loss: 0.3080\n",
            "Epoch [41/80], Loss: 0.3105\n",
            "Epoch [42/80], Loss: 0.3082\n",
            "Epoch [43/80], Loss: 0.3037\n",
            "Epoch [44/80], Loss: 0.3049\n",
            "Epoch [45/80], Loss: 0.3027\n",
            "Epoch [46/80], Loss: 0.2986\n",
            "Epoch [47/80], Loss: 0.2998\n",
            "Epoch [48/80], Loss: 0.2988\n",
            "Epoch [49/80], Loss: 0.2930\n",
            "Epoch [50/80], Loss: 0.2910\n",
            "Epoch [51/80], Loss: 0.2920\n",
            "Epoch [52/80], Loss: 0.2918\n",
            "Epoch [53/80], Loss: 0.2926\n",
            "Epoch [54/80], Loss: 0.2897\n",
            "Epoch [55/80], Loss: 0.2885\n",
            "Epoch [56/80], Loss: 0.2836\n",
            "Epoch [57/80], Loss: 0.2806\n",
            "Epoch [58/80], Loss: 0.2805\n",
            "Epoch [59/80], Loss: 0.2808\n",
            "Epoch [60/80], Loss: 0.2808\n",
            "Epoch [61/80], Loss: 0.2781\n",
            "Epoch [62/80], Loss: 0.2754\n",
            "Epoch [63/80], Loss: 0.2778\n",
            "Epoch [64/80], Loss: 0.2748\n",
            "Epoch [65/80], Loss: 0.2724\n",
            "Epoch [66/80], Loss: 0.2719\n",
            "Epoch [67/80], Loss: 0.2727\n",
            "Epoch [68/80], Loss: 0.2713\n",
            "Epoch [69/80], Loss: 0.2711\n",
            "Epoch [70/80], Loss: 0.2686\n",
            "Epoch [71/80], Loss: 0.2643\n",
            "Epoch [72/80], Loss: 0.2682\n",
            "Epoch [73/80], Loss: 0.2638\n",
            "Epoch [74/80], Loss: 0.2686\n",
            "Epoch [75/80], Loss: 0.2669\n",
            "Epoch [76/80], Loss: 0.2590\n",
            "Epoch [77/80], Loss: 0.2644\n",
            "Epoch [78/80], Loss: 0.2623\n",
            "Epoch [79/80], Loss: 0.2581\n",
            "Epoch [80/80], Loss: 0.2584\n"
          ]
        }
      ]
    },
    {
      "cell_type": "markdown",
      "source": [
        "Model 3 için epoch sayısının 80 olarak belirlenmesi diğer modellere kıyasla farklı bir stratejiyi yansıtmaktadır. Bu seçim, modelin mimarisi ve kullanılan düzenleme tekniklerine bağlı olarak yapılmıştır. İşte bunun nedenleri:\n",
        "\n",
        "Model 3 için 80 epoch seçimi, learning rate scheduler, düzenleme teknikleri, ve overfitting riskinin azaltılması gibi faktörlerle ilişkilidir. Daha az epoch kullanımı, karmaşık bir model için eğitim süresini optimize etmek ve gereksiz hesaplama maliyetlerini önlemek için stratejik bir karardır.\n",
        "\n",
        "Model 3, 80 epoch süresince etkili bir şekilde öğrenmiş ve StepLR scheduler sayesinde hassas öğrenme gerçekleştirmiştir. Epoch sayısının azaltılması, modelin overfitting yapmasını önlemek ve gereksiz hesaplama süresini kısaltmak için doğru bir stratejidir. Eğitim performansı, genelleme kapasitesini koruyacak şekilde optimize edilmiştir."
      ],
      "metadata": {
        "id": "wTD1EoNvlIXR"
      }
    },
    {
      "cell_type": "code",
      "source": [
        "mlp_model3.eval()  # Değerlendirme modunu etkinleştir\n",
        "val_loss = 0.0\n",
        "correct = 0\n",
        "total = 0\n",
        "with torch.no_grad():\n",
        "    for images, labels in val_loader:\n",
        "        images, labels = images.to(device), labels.to(device)\n",
        "        outputs = mlp_model3(images)\n",
        "        loss = criterion(outputs, labels)\n",
        "        val_loss += loss.item()\n",
        "\n",
        "        # Doğru tahmin edilen sınıf sayısı\n",
        "        _, predicted = torch.max(outputs, 1)\n",
        "        total += labels.size(0)\n",
        "        correct += (predicted == labels).sum().item()\n",
        "\n",
        "val_accuracy = 100 * correct / total\n",
        "print(f\"Validation Loss: {val_loss/len(val_loader):.4f}, Accuracy: {val_accuracy:.2f}%\")"
      ],
      "metadata": {
        "colab": {
          "base_uri": "https://localhost:8080/"
        },
        "id": "SVAf5fU0AVxK",
        "outputId": "fe98fe81-219c-4e9f-ae97-0ef13d3bbc58"
      },
      "execution_count": null,
      "outputs": [
        {
          "output_type": "stream",
          "name": "stdout",
          "text": [
            "Validation Loss: 0.2761, Accuracy: 90.18%\n"
          ]
        }
      ]
    },
    {
      "cell_type": "markdown",
      "source": [
        "\n",
        "# Adım 1: RBF Ağını Tanımlama\n",
        "\n",
        "Bir RBF ağı, şu bileşenlerden oluşur:\n",
        "\n",
        "Gizli Katman: RBF'ler, merkezler ve yarıçaplara (spread) bağlı olarak hesaplanır.\n",
        "\n",
        "Çıkış Katmanı: Genellikle lineer bir tam bağlantılı katmandır.\n"
      ],
      "metadata": {
        "id": "d5lqaB9RPkh5"
      }
    },
    {
      "cell_type": "code",
      "source": [
        "import torch\n",
        "import torch.nn as nn\n",
        "import torch.nn.functional as F\n",
        "import numpy as np\n",
        "\n",
        "class RBFNet(nn.Module):\n",
        "    def __init__(self, input_size, hidden_size, num_classes):\n",
        "        super(RBFNet, self).__init__()\n",
        "        self.hidden_size = hidden_size\n",
        "\n",
        "        # RBF merkezleri ve beta öğrenilebilir\n",
        "        self.centers = nn.Parameter(torch.randn(hidden_size, input_size))  # Merkezler\n",
        "        self.beta = nn.Parameter(torch.ones(hidden_size) * 0.01)          # Yayılım (spread)\n",
        "\n",
        "        # Çıkış katmanı\n",
        "        self.linear = nn.Linear(hidden_size, num_classes)\n",
        "        nn.init.xavier_uniform_(self.linear.weight)  # Xavier initialization for weights\n",
        "\n",
        "    def rbf(self, x, centers, beta):\n",
        "        # RBF fonksiyonu (Gauss)\n",
        "        expanded_x = x.unsqueeze(1)  # (batch_size, 1, input_size)\n",
        "        distances = torch.norm(expanded_x - centers, dim=2)\n",
        "        return torch.exp(-beta * (distances ** 2))\n",
        "\n",
        "    def forward(self, x):\n",
        "        x = x.view(x.size(0), -1)  # Girişi düzleştir\n",
        "        phi = self.rbf(x, self.centers, self.beta)  # RBF katmanı\n",
        "        output = self.linear(phi)  # Çıkış katmanı\n",
        "        return output"
      ],
      "metadata": {
        "id": "3rmQDDStPrdR"
      },
      "execution_count": null,
      "outputs": []
    },
    {
      "cell_type": "markdown",
      "source": [
        "**Adım 2: Modeli Eğitme**\n",
        "\n",
        "MLP’de olduğu gibi, RBF ağı için de aynı veri setini ve veri yükleyicileri kullanacağız. Ancak RBF’nin özelliklerini ve yayılımını optimize etmek için biraz daha dikkat gerekecek."
      ],
      "metadata": {
        "id": "7VdZuQlIP0ir"
      }
    },
    {
      "cell_type": "code",
      "source": [
        "input_size = 28 * 28\n",
        "hidden_size = 100\n",
        "num_classes = 10\n",
        "\n",
        "rbf_model = RBFNet(input_size, hidden_size, num_classes)\n",
        "criterion = nn.CrossEntropyLoss()  # Çok sınıflı sınıflandırma için uygun kayıp fonksiyonu\n",
        "optimizer = torch.optim.Adam(rbf_model.parameters(), lr=0.001, weight_decay=1e-4)  # Regularization eklenmiş optimizer\n"
      ],
      "metadata": {
        "id": "WEklyrjbPwIm"
      },
      "execution_count": null,
      "outputs": []
    },
    {
      "cell_type": "markdown",
      "source": [
        "Regularization ile Overfitting azaltılır.\n",
        "Adam optimizasyonu hızlı ve stabil bir öğrenme süreci sağlar.\n",
        "Esnek öğrenme oranı hassas öğrenim sunar."
      ],
      "metadata": {
        "id": "FlsqHqDpqkdV"
      }
    },
    {
      "cell_type": "markdown",
      "source": [
        "**Adım 3: Eğitim Döngüsü**\n",
        "\n",
        "RBF ağı için eğitim döngüsü, MLP ile oldukça benzerdir. Modelin parametrelerini optimize ederek ağı eğitiyoruz."
      ],
      "metadata": {
        "id": "WYo74Hl9P88a"
      }
    },
    {
      "cell_type": "code",
      "source": [
        "num_epochs = 80  # Eğitim tekrar sayısı\n",
        "rbf_train_losses = []\n",
        "\n",
        "\n",
        "for epoch in range(num_epochs):\n",
        "    rbf_model.train()\n",
        "    train_loss = 0\n",
        "    for inputs, labels in train_loader:\n",
        "        inputs, labels = inputs, labels\n",
        "        optimizer.zero_grad()\n",
        "        outputs = rbf_model(inputs)\n",
        "        loss = criterion(outputs, labels)\n",
        "        loss.backward()\n",
        "        optimizer.step()\n",
        "        train_loss += loss.item()\n",
        "        rbf_train_losses.append(train_loss / len(train_loader))  # Loss kaydı\n",
        "    # Doğrulama\n",
        "    rbf_model.eval()\n",
        "    val_loss = 0\n",
        "    val_accuracy = 0\n",
        "    with torch.no_grad():\n",
        "        for inputs, labels in val_loader:\n",
        "            outputs = rbf_model(inputs)\n",
        "            loss = criterion(outputs, labels)\n",
        "            val_loss += loss.item()\n",
        "            val_accuracy += (outputs.argmax(dim=1) == labels).float().sum()\n",
        "\n",
        "    val_loss /= len(val_loader)\n",
        "    val_accuracy /= len(val_dataset)\n",
        "\n",
        "    print(f\"Epoch {epoch+1}/{num_epochs}, Train Loss: {train_loss/len(train_loader):.4f}, Val Loss: {val_loss:.4f}, Val Accuracy: {val_accuracy:.4f}\")\n",
        "\n"
      ],
      "metadata": {
        "colab": {
          "base_uri": "https://localhost:8080/"
        },
        "id": "Pc-KcbLuP8bT",
        "outputId": "a8acce23-d59e-4609-8ff3-dd2ce930adc4"
      },
      "execution_count": null,
      "outputs": [
        {
          "output_type": "stream",
          "name": "stdout",
          "text": [
            "Epoch 1/80, Train Loss: 2.2754, Val Loss: 2.1731, Val Accuracy: 0.1044\n",
            "Epoch 2/80, Train Loss: 1.9925, Val Loss: 1.7845, Val Accuracy: 0.4005\n",
            "Epoch 3/80, Train Loss: 1.5325, Val Loss: 1.3646, Val Accuracy: 0.5509\n",
            "Epoch 4/80, Train Loss: 1.3042, Val Loss: 1.2307, Val Accuracy: 0.5343\n",
            "Epoch 5/80, Train Loss: 1.1748, Val Loss: 1.1493, Val Accuracy: 0.6445\n",
            "Epoch 6/80, Train Loss: 1.0903, Val Loss: 1.0421, Val Accuracy: 0.6688\n",
            "Epoch 7/80, Train Loss: 1.0302, Val Loss: 1.0510, Val Accuracy: 0.6687\n",
            "Epoch 8/80, Train Loss: 0.9886, Val Loss: 0.9324, Val Accuracy: 0.6922\n",
            "Epoch 9/80, Train Loss: 0.9433, Val Loss: 0.9223, Val Accuracy: 0.7050\n",
            "Epoch 10/80, Train Loss: 0.9193, Val Loss: 0.8958, Val Accuracy: 0.7127\n",
            "Epoch 11/80, Train Loss: 0.8934, Val Loss: 0.8712, Val Accuracy: 0.7065\n",
            "Epoch 12/80, Train Loss: 0.8763, Val Loss: 0.8676, Val Accuracy: 0.7142\n",
            "Epoch 13/80, Train Loss: 0.8570, Val Loss: 0.8627, Val Accuracy: 0.7133\n",
            "Epoch 14/80, Train Loss: 0.8411, Val Loss: 0.8274, Val Accuracy: 0.7319\n",
            "Epoch 15/80, Train Loss: 0.8309, Val Loss: 0.8156, Val Accuracy: 0.7252\n",
            "Epoch 16/80, Train Loss: 0.8253, Val Loss: 0.8347, Val Accuracy: 0.7105\n",
            "Epoch 17/80, Train Loss: 0.8129, Val Loss: 0.7752, Val Accuracy: 0.7384\n",
            "Epoch 18/80, Train Loss: 0.8113, Val Loss: 0.7874, Val Accuracy: 0.7358\n",
            "Epoch 19/80, Train Loss: 0.7994, Val Loss: 0.8422, Val Accuracy: 0.7049\n",
            "Epoch 20/80, Train Loss: 0.7918, Val Loss: 0.7884, Val Accuracy: 0.7241\n",
            "Epoch 21/80, Train Loss: 0.7883, Val Loss: 0.7431, Val Accuracy: 0.7486\n",
            "Epoch 22/80, Train Loss: 0.7822, Val Loss: 0.7775, Val Accuracy: 0.7358\n",
            "Epoch 23/80, Train Loss: 0.7789, Val Loss: 0.7688, Val Accuracy: 0.7313\n",
            "Epoch 24/80, Train Loss: 0.7744, Val Loss: 0.7700, Val Accuracy: 0.7464\n",
            "Epoch 25/80, Train Loss: 0.7722, Val Loss: 0.9088, Val Accuracy: 0.6884\n",
            "Epoch 26/80, Train Loss: 0.7644, Val Loss: 0.7578, Val Accuracy: 0.7399\n",
            "Epoch 27/80, Train Loss: 0.7622, Val Loss: 0.7468, Val Accuracy: 0.7433\n",
            "Epoch 28/80, Train Loss: 0.7581, Val Loss: 0.7433, Val Accuracy: 0.7426\n",
            "Epoch 29/80, Train Loss: 0.7597, Val Loss: 0.7335, Val Accuracy: 0.7519\n",
            "Epoch 30/80, Train Loss: 0.7593, Val Loss: 0.7792, Val Accuracy: 0.7183\n",
            "Epoch 31/80, Train Loss: 0.7530, Val Loss: 0.7127, Val Accuracy: 0.7606\n",
            "Epoch 32/80, Train Loss: 0.7497, Val Loss: 0.7653, Val Accuracy: 0.7286\n",
            "Epoch 33/80, Train Loss: 0.7497, Val Loss: 0.7247, Val Accuracy: 0.7538\n",
            "Epoch 34/80, Train Loss: 0.7495, Val Loss: 0.7297, Val Accuracy: 0.7517\n",
            "Epoch 35/80, Train Loss: 0.7448, Val Loss: 0.7152, Val Accuracy: 0.7558\n",
            "Epoch 36/80, Train Loss: 0.7471, Val Loss: 0.7103, Val Accuracy: 0.7568\n",
            "Epoch 37/80, Train Loss: 0.7468, Val Loss: 0.7142, Val Accuracy: 0.7559\n",
            "Epoch 38/80, Train Loss: 0.7417, Val Loss: 0.7757, Val Accuracy: 0.7259\n",
            "Epoch 39/80, Train Loss: 0.7423, Val Loss: 0.7339, Val Accuracy: 0.7489\n",
            "Epoch 40/80, Train Loss: 0.7447, Val Loss: 0.7390, Val Accuracy: 0.7521\n",
            "Epoch 41/80, Train Loss: 0.7401, Val Loss: 0.7436, Val Accuracy: 0.7538\n",
            "Epoch 42/80, Train Loss: 0.7350, Val Loss: 0.7364, Val Accuracy: 0.7437\n",
            "Epoch 43/80, Train Loss: 0.7414, Val Loss: 0.7057, Val Accuracy: 0.7534\n",
            "Epoch 44/80, Train Loss: 0.7431, Val Loss: 0.8253, Val Accuracy: 0.7172\n",
            "Epoch 45/80, Train Loss: 0.7378, Val Loss: 0.7323, Val Accuracy: 0.7426\n",
            "Epoch 46/80, Train Loss: 0.7363, Val Loss: 0.7721, Val Accuracy: 0.7265\n",
            "Epoch 47/80, Train Loss: 0.7344, Val Loss: 0.7352, Val Accuracy: 0.7472\n",
            "Epoch 48/80, Train Loss: 0.7329, Val Loss: 0.7128, Val Accuracy: 0.7551\n",
            "Epoch 49/80, Train Loss: 0.7318, Val Loss: 0.7813, Val Accuracy: 0.7292\n",
            "Epoch 50/80, Train Loss: 0.7312, Val Loss: 0.7123, Val Accuracy: 0.7423\n",
            "Epoch 51/80, Train Loss: 0.7318, Val Loss: 0.7207, Val Accuracy: 0.7436\n",
            "Epoch 52/80, Train Loss: 0.7276, Val Loss: 0.7848, Val Accuracy: 0.7230\n",
            "Epoch 53/80, Train Loss: 0.7280, Val Loss: 0.7384, Val Accuracy: 0.7420\n",
            "Epoch 54/80, Train Loss: 0.7318, Val Loss: 0.7343, Val Accuracy: 0.7419\n",
            "Epoch 55/80, Train Loss: 0.7318, Val Loss: 0.7499, Val Accuracy: 0.7348\n",
            "Epoch 56/80, Train Loss: 0.7259, Val Loss: 0.7937, Val Accuracy: 0.7288\n",
            "Epoch 57/80, Train Loss: 0.7272, Val Loss: 0.6842, Val Accuracy: 0.7703\n",
            "Epoch 58/80, Train Loss: 0.7249, Val Loss: 0.7213, Val Accuracy: 0.7541\n",
            "Epoch 59/80, Train Loss: 0.7212, Val Loss: 0.7256, Val Accuracy: 0.7497\n",
            "Epoch 60/80, Train Loss: 0.7224, Val Loss: 0.6800, Val Accuracy: 0.7704\n",
            "Epoch 61/80, Train Loss: 0.7252, Val Loss: 0.7744, Val Accuracy: 0.7296\n",
            "Epoch 62/80, Train Loss: 0.7238, Val Loss: 0.8370, Val Accuracy: 0.7062\n",
            "Epoch 63/80, Train Loss: 0.7199, Val Loss: 0.7225, Val Accuracy: 0.7530\n",
            "Epoch 64/80, Train Loss: 0.7209, Val Loss: 0.6851, Val Accuracy: 0.7662\n",
            "Epoch 65/80, Train Loss: 0.7206, Val Loss: 0.7198, Val Accuracy: 0.7504\n",
            "Epoch 66/80, Train Loss: 0.7156, Val Loss: 0.7453, Val Accuracy: 0.7367\n",
            "Epoch 67/80, Train Loss: 0.7240, Val Loss: 0.7407, Val Accuracy: 0.7350\n",
            "Epoch 68/80, Train Loss: 0.7169, Val Loss: 0.6984, Val Accuracy: 0.7494\n",
            "Epoch 69/80, Train Loss: 0.7150, Val Loss: 0.7270, Val Accuracy: 0.7538\n",
            "Epoch 70/80, Train Loss: 0.7175, Val Loss: 0.6828, Val Accuracy: 0.7662\n",
            "Epoch 71/80, Train Loss: 0.7139, Val Loss: 0.7055, Val Accuracy: 0.7490\n",
            "Epoch 72/80, Train Loss: 0.7159, Val Loss: 0.7489, Val Accuracy: 0.7402\n",
            "Epoch 73/80, Train Loss: 0.7154, Val Loss: 0.7002, Val Accuracy: 0.7602\n",
            "Epoch 74/80, Train Loss: 0.7144, Val Loss: 0.7282, Val Accuracy: 0.7392\n",
            "Epoch 75/80, Train Loss: 0.7114, Val Loss: 0.6938, Val Accuracy: 0.7548\n",
            "Epoch 76/80, Train Loss: 0.7112, Val Loss: 0.7194, Val Accuracy: 0.7347\n",
            "Epoch 77/80, Train Loss: 0.7095, Val Loss: 0.7090, Val Accuracy: 0.7611\n",
            "Epoch 78/80, Train Loss: 0.7109, Val Loss: 0.7244, Val Accuracy: 0.7453\n",
            "Epoch 79/80, Train Loss: 0.7081, Val Loss: 0.7242, Val Accuracy: 0.7368\n",
            "Epoch 80/80, Train Loss: 0.7116, Val Loss: 0.7563, Val Accuracy: 0.7462\n"
          ]
        }
      ]
    },
    {
      "cell_type": "markdown",
      "source": [
        "**Adım 4: Modeli Değerlendirme**\n",
        "\n",
        "RBF modelini test veri seti üzerinde değerlendiriyoruz."
      ],
      "metadata": {
        "id": "gGte-abtQGPw"
      }
    },
    {
      "cell_type": "code",
      "source": [
        "# 5. Test Performansı\n",
        "rbf_model.eval()\n",
        "test_accuracy = 0\n",
        "with torch.no_grad():\n",
        "    for inputs, labels in test_loader:\n",
        "        outputs = rbf_model(inputs)\n",
        "        test_accuracy += (outputs.argmax(dim=1) == labels).float().sum()\n",
        "\n",
        "test_accuracy /= len(test_dataset)\n",
        "print(f\"Test Accuracy: {test_accuracy:.4f}\")"
      ],
      "metadata": {
        "colab": {
          "base_uri": "https://localhost:8080/"
        },
        "id": "VSPZc8oMQFxc",
        "outputId": "40986ca0-a427-473a-9d6c-8aca324c621d"
      },
      "execution_count": null,
      "outputs": [
        {
          "output_type": "stream",
          "name": "stdout",
          "text": [
            "Test Accuracy: 0.7401\n"
          ]
        }
      ]
    },
    {
      "cell_type": "markdown",
      "source": [
        "# RBFNet2"
      ],
      "metadata": {
        "id": "mQlG3gddPmWD"
      }
    },
    {
      "cell_type": "code",
      "source": [
        "input_size = 28 * 28\n",
        "hidden_size = 100\n",
        "num_classes = 10\n",
        "\n",
        "rbf_model2 = RBFNet(input_size, hidden_size, num_classes)\n",
        "criterion = nn.CrossEntropyLoss()  # Çok sınıflı sınıflandırma için uygun kayıp fonksiyonu\n",
        "optimizer = torch.optim.SGD(rbf_model2.parameters(), lr=0.001, weight_decay=1e-4)  # Regularization eklenmiş SGD optimizer"
      ],
      "metadata": {
        "id": "-7HURrBIPkOj"
      },
      "execution_count": null,
      "outputs": []
    },
    {
      "cell_type": "code",
      "source": [
        "num_epochs = 80  # Eğitim tekrar sayısı\n",
        "rbf_train_losses2 = []\n",
        "\n",
        "\n",
        "for epoch in range(num_epochs):\n",
        "    rbf_model2.train()\n",
        "    train_loss = 0\n",
        "    for inputs, labels in train_loader:\n",
        "        inputs, labels = inputs, labels\n",
        "        optimizer.zero_grad()\n",
        "        outputs = rbf_model2(inputs)\n",
        "        loss = criterion(outputs, labels)\n",
        "        loss.backward()\n",
        "        optimizer.step()\n",
        "        train_loss += loss.item()\n",
        "        rbf_train_losses2.append(train_loss / len(train_loader))  # Loss kaydı\n",
        "    # Doğrulama\n",
        "    rbf_model2.eval()\n",
        "    val_loss = 0\n",
        "    val_accuracy = 0\n",
        "    with torch.no_grad():\n",
        "        for inputs, labels in val_loader:\n",
        "            outputs = rbf_model2(inputs)\n",
        "            loss = criterion(outputs, labels)\n",
        "            val_loss += loss.item()\n",
        "            val_accuracy += (outputs.argmax(dim=1) == labels).float().sum()\n",
        "\n",
        "    val_loss /= len(val_loader)\n",
        "    val_accuracy /= len(val_dataset)\n",
        "\n",
        "    print(f\"Epoch {epoch+1}/{num_epochs}, Train Loss: {train_loss/len(train_loader):.4f}, Val Loss: {val_loss:.4f}, Val Accuracy: {val_accuracy:.4f}\")"
      ],
      "metadata": {
        "colab": {
          "base_uri": "https://localhost:8080/"
        },
        "id": "_wc9EgIyP_NH",
        "outputId": "bd40b8f7-c9d3-47cd-d99a-44189a0547fc"
      },
      "execution_count": null,
      "outputs": [
        {
          "output_type": "stream",
          "name": "stdout",
          "text": [
            "Epoch 1/80, Train Loss: 2.3043, Val Loss: 2.3042, Val Accuracy: 0.0997\n",
            "Epoch 2/80, Train Loss: 2.3206, Val Loss: 2.3038, Val Accuracy: 0.0997\n",
            "Epoch 3/80, Train Loss: 12.3355, Val Loss: 2.3035, Val Accuracy: 0.0997\n",
            "Epoch 4/80, Train Loss: 2.5238, Val Loss: 2.3033, Val Accuracy: 0.0997\n",
            "Epoch 5/80, Train Loss: nan, Val Loss: nan, Val Accuracy: 0.1013\n",
            "Epoch 6/80, Train Loss: nan, Val Loss: nan, Val Accuracy: 0.1013\n",
            "Epoch 7/80, Train Loss: nan, Val Loss: nan, Val Accuracy: 0.1013\n",
            "Epoch 8/80, Train Loss: nan, Val Loss: nan, Val Accuracy: 0.1013\n",
            "Epoch 9/80, Train Loss: nan, Val Loss: nan, Val Accuracy: 0.1013\n",
            "Epoch 10/80, Train Loss: nan, Val Loss: nan, Val Accuracy: 0.1013\n",
            "Epoch 11/80, Train Loss: nan, Val Loss: nan, Val Accuracy: 0.1013\n",
            "Epoch 12/80, Train Loss: nan, Val Loss: nan, Val Accuracy: 0.1013\n",
            "Epoch 13/80, Train Loss: nan, Val Loss: nan, Val Accuracy: 0.1013\n",
            "Epoch 14/80, Train Loss: nan, Val Loss: nan, Val Accuracy: 0.1013\n",
            "Epoch 15/80, Train Loss: nan, Val Loss: nan, Val Accuracy: 0.1013\n",
            "Epoch 16/80, Train Loss: nan, Val Loss: nan, Val Accuracy: 0.1013\n",
            "Epoch 17/80, Train Loss: nan, Val Loss: nan, Val Accuracy: 0.1013\n",
            "Epoch 18/80, Train Loss: nan, Val Loss: nan, Val Accuracy: 0.1013\n",
            "Epoch 19/80, Train Loss: nan, Val Loss: nan, Val Accuracy: 0.1013\n",
            "Epoch 20/80, Train Loss: nan, Val Loss: nan, Val Accuracy: 0.1013\n",
            "Epoch 21/80, Train Loss: nan, Val Loss: nan, Val Accuracy: 0.1013\n",
            "Epoch 22/80, Train Loss: nan, Val Loss: nan, Val Accuracy: 0.1013\n",
            "Epoch 23/80, Train Loss: nan, Val Loss: nan, Val Accuracy: 0.1013\n",
            "Epoch 24/80, Train Loss: nan, Val Loss: nan, Val Accuracy: 0.1013\n",
            "Epoch 25/80, Train Loss: nan, Val Loss: nan, Val Accuracy: 0.1013\n",
            "Epoch 26/80, Train Loss: nan, Val Loss: nan, Val Accuracy: 0.1013\n",
            "Epoch 27/80, Train Loss: nan, Val Loss: nan, Val Accuracy: 0.1013\n",
            "Epoch 28/80, Train Loss: nan, Val Loss: nan, Val Accuracy: 0.1013\n",
            "Epoch 29/80, Train Loss: nan, Val Loss: nan, Val Accuracy: 0.1013\n",
            "Epoch 30/80, Train Loss: nan, Val Loss: nan, Val Accuracy: 0.1013\n",
            "Epoch 31/80, Train Loss: nan, Val Loss: nan, Val Accuracy: 0.1013\n",
            "Epoch 32/80, Train Loss: nan, Val Loss: nan, Val Accuracy: 0.1013\n",
            "Epoch 33/80, Train Loss: nan, Val Loss: nan, Val Accuracy: 0.1013\n",
            "Epoch 34/80, Train Loss: nan, Val Loss: nan, Val Accuracy: 0.1013\n",
            "Epoch 35/80, Train Loss: nan, Val Loss: nan, Val Accuracy: 0.1013\n",
            "Epoch 36/80, Train Loss: nan, Val Loss: nan, Val Accuracy: 0.1013\n",
            "Epoch 37/80, Train Loss: nan, Val Loss: nan, Val Accuracy: 0.1013\n",
            "Epoch 38/80, Train Loss: nan, Val Loss: nan, Val Accuracy: 0.1013\n",
            "Epoch 39/80, Train Loss: nan, Val Loss: nan, Val Accuracy: 0.1013\n",
            "Epoch 40/80, Train Loss: nan, Val Loss: nan, Val Accuracy: 0.1013\n",
            "Epoch 41/80, Train Loss: nan, Val Loss: nan, Val Accuracy: 0.1013\n",
            "Epoch 42/80, Train Loss: nan, Val Loss: nan, Val Accuracy: 0.1013\n",
            "Epoch 43/80, Train Loss: nan, Val Loss: nan, Val Accuracy: 0.1013\n",
            "Epoch 44/80, Train Loss: nan, Val Loss: nan, Val Accuracy: 0.1013\n",
            "Epoch 45/80, Train Loss: nan, Val Loss: nan, Val Accuracy: 0.1013\n",
            "Epoch 46/80, Train Loss: nan, Val Loss: nan, Val Accuracy: 0.1013\n",
            "Epoch 47/80, Train Loss: nan, Val Loss: nan, Val Accuracy: 0.1013\n",
            "Epoch 48/80, Train Loss: nan, Val Loss: nan, Val Accuracy: 0.1013\n",
            "Epoch 49/80, Train Loss: nan, Val Loss: nan, Val Accuracy: 0.1013\n",
            "Epoch 50/80, Train Loss: nan, Val Loss: nan, Val Accuracy: 0.1013\n",
            "Epoch 51/80, Train Loss: nan, Val Loss: nan, Val Accuracy: 0.1013\n",
            "Epoch 52/80, Train Loss: nan, Val Loss: nan, Val Accuracy: 0.1013\n",
            "Epoch 53/80, Train Loss: nan, Val Loss: nan, Val Accuracy: 0.1013\n",
            "Epoch 54/80, Train Loss: nan, Val Loss: nan, Val Accuracy: 0.1013\n",
            "Epoch 55/80, Train Loss: nan, Val Loss: nan, Val Accuracy: 0.1013\n",
            "Epoch 56/80, Train Loss: nan, Val Loss: nan, Val Accuracy: 0.1013\n",
            "Epoch 57/80, Train Loss: nan, Val Loss: nan, Val Accuracy: 0.1013\n",
            "Epoch 58/80, Train Loss: nan, Val Loss: nan, Val Accuracy: 0.1013\n",
            "Epoch 59/80, Train Loss: nan, Val Loss: nan, Val Accuracy: 0.1013\n",
            "Epoch 60/80, Train Loss: nan, Val Loss: nan, Val Accuracy: 0.1013\n",
            "Epoch 61/80, Train Loss: nan, Val Loss: nan, Val Accuracy: 0.1013\n",
            "Epoch 62/80, Train Loss: nan, Val Loss: nan, Val Accuracy: 0.1013\n",
            "Epoch 63/80, Train Loss: nan, Val Loss: nan, Val Accuracy: 0.1013\n",
            "Epoch 64/80, Train Loss: nan, Val Loss: nan, Val Accuracy: 0.1013\n",
            "Epoch 65/80, Train Loss: nan, Val Loss: nan, Val Accuracy: 0.1013\n",
            "Epoch 66/80, Train Loss: nan, Val Loss: nan, Val Accuracy: 0.1013\n",
            "Epoch 67/80, Train Loss: nan, Val Loss: nan, Val Accuracy: 0.1013\n",
            "Epoch 68/80, Train Loss: nan, Val Loss: nan, Val Accuracy: 0.1013\n",
            "Epoch 69/80, Train Loss: nan, Val Loss: nan, Val Accuracy: 0.1013\n",
            "Epoch 70/80, Train Loss: nan, Val Loss: nan, Val Accuracy: 0.1013\n",
            "Epoch 71/80, Train Loss: nan, Val Loss: nan, Val Accuracy: 0.1013\n",
            "Epoch 72/80, Train Loss: nan, Val Loss: nan, Val Accuracy: 0.1013\n",
            "Epoch 73/80, Train Loss: nan, Val Loss: nan, Val Accuracy: 0.1013\n",
            "Epoch 74/80, Train Loss: nan, Val Loss: nan, Val Accuracy: 0.1013\n",
            "Epoch 75/80, Train Loss: nan, Val Loss: nan, Val Accuracy: 0.1013\n",
            "Epoch 76/80, Train Loss: nan, Val Loss: nan, Val Accuracy: 0.1013\n",
            "Epoch 77/80, Train Loss: nan, Val Loss: nan, Val Accuracy: 0.1013\n",
            "Epoch 78/80, Train Loss: nan, Val Loss: nan, Val Accuracy: 0.1013\n",
            "Epoch 79/80, Train Loss: nan, Val Loss: nan, Val Accuracy: 0.1013\n",
            "Epoch 80/80, Train Loss: nan, Val Loss: nan, Val Accuracy: 0.1013\n"
          ]
        }
      ]
    },
    {
      "cell_type": "code",
      "source": [
        "# 5. Test Performansı\n",
        "rbf_model2.eval()\n",
        "test_accuracy = 0\n",
        "with torch.no_grad():\n",
        "    for inputs, labels in test_loader:\n",
        "        outputs = rbf_model2(inputs)\n",
        "        test_accuracy += (outputs.argmax(dim=1) == labels).float().sum()\n",
        "\n",
        "test_accuracy /= len(test_dataset)\n",
        "print(f\"Test Accuracy: {test_accuracy:.4f}\")"
      ],
      "metadata": {
        "id": "EyzP1kuSQZfa",
        "colab": {
          "base_uri": "https://localhost:8080/"
        },
        "outputId": "8c4dc3be-333a-4526-ccb0-84de8e2b2d88"
      },
      "execution_count": null,
      "outputs": [
        {
          "output_type": "stream",
          "name": "stdout",
          "text": [
            "Test Accuracy: 0.1000\n"
          ]
        }
      ]
    },
    {
      "cell_type": "markdown",
      "source": [
        "Kayıp ve Doğruluğu Görselleştirme"
      ],
      "metadata": {
        "id": "Bzpa4p2kQRx-"
      }
    },
    {
      "cell_type": "code",
      "source": [
        "import matplotlib.pyplot as plt\n",
        "\n",
        "# Eğitim Loss değerlerini çiz\n",
        "plt.figure(figsize=(10, 5))\n",
        "plt.plot(rbf_train_losses, label='RBF Training Loss1')\n",
        "plt.plot(rbf_train_losses2, label='RBF Training Loss2')\n",
        "plt.xlabel('Epoch')\n",
        "plt.ylabel('Loss')\n",
        "plt.title('Training Loss Comparison')\n",
        "plt.legend()\n",
        "plt.show()\n"
      ],
      "metadata": {
        "colab": {
          "base_uri": "https://localhost:8080/",
          "height": 487
        },
        "id": "-PBXA2ywX055",
        "outputId": "27883827-4c94-4177-ec74-1e3bd2cf0e80"
      },
      "execution_count": null,
      "outputs": [
        {
          "output_type": "display_data",
          "data": {
            "text/plain": [
              "<Figure size 1000x500 with 1 Axes>"
            ],
            "image/png": "[encoded data removed]"
          },
          "metadata": {}
        }
      ]
    },
    {
      "cell_type": "code",
      "source": [
        "import matplotlib.pyplot as plt\n",
        "\n",
        "# Eğitim Loss değerlerini çiz\n",
        "plt.figure(figsize=(10, 5))\n",
        "plt.plot(mlp_train_losses3, label='MLP Training Loss')\n",
        "plt.plot(rbf_train_losses, label='RBF Training Loss')\n",
        "plt.xlabel('Epoch')\n",
        "plt.ylabel('Loss')\n",
        "plt.title('Training Loss Comparison')\n",
        "plt.legend()\n",
        "plt.show()\n"
      ],
      "metadata": {
        "colab": {
          "base_uri": "https://localhost:8080/",
          "height": 487
        },
        "id": "2tQGZ1o3QRhm",
        "outputId": "8c5d6379-cc8f-45c8-d251-435d9b0f4832"
      },
      "execution_count": null,
      "outputs": [
        {
          "output_type": "display_data",
          "data": {
            "text/plain": [
              "<Figure size 1000x500 with 1 Axes>"
            ],
            "image/png": "[encoded data removed]"
          },
          "metadata": {}
        }
      ]
    },
    {
      "cell_type": "markdown",
      "source": [
        "Grafikte, MLP ve RBF modellerinin eğitim kayıpları karşılaştırılmıştır. MLP modeli daha düşük bir başlangıç kaybına sahip ve stabil bir şekilde kaybını azaltmaktadır. RBF modeli ise başlangıçta daha yüksek kayıpla başlamış ve dalgalanmalar göstermiştir. Bu, RBF'nin parametre optimizasyonuna daha fazla bağımlı olduğunu ve hassas ayarlama gerektiğini göstermektedir. Genel olarak, MLP daha stabil ve hızlı öğrenirken, RBF'nin kaybı yavaş bir şekilde azalmıştır. Dalgalanmaların azaltılması için RBF'de öğrenme oranı ve düzenleme teknikleri optimize edilebilir."
      ],
      "metadata": {
        "id": "dMLTTRZOzNG8"
      }
    },
    {
      "cell_type": "markdown",
      "source": [
        "# Performans Ölçümleri"
      ],
      "metadata": {
        "id": "D5510p_AJcn8"
      }
    },
    {
      "cell_type": "markdown",
      "source": [
        "MLP için Confusion Matrix"
      ],
      "metadata": {
        "id": "jixSWAD1JfSV"
      }
    },
    {
      "cell_type": "code",
      "source": [
        "from sklearn.metrics import confusion_matrix, classification_report\n",
        "import seaborn as sns\n",
        "import matplotlib.pyplot as plt\n",
        "\n",
        "# MLP için tahmin yap\n",
        "mlp_model3.eval()\n",
        "mlp_all_preds3 = []\n",
        "mlp_all_labels3 = []\n",
        "\n",
        "with torch.no_grad():\n",
        "    for images, labels in test_loader:\n",
        "        images, labels = images.to(device), labels.to(device)\n",
        "        outputs = mlp_model3(images)\n",
        "        _, predicted = torch.max(outputs.data, 1)\n",
        "        mlp_all_preds3.extend(predicted.cpu().numpy())\n",
        "        mlp_all_labels3.extend(labels.cpu().numpy())\n",
        "\n",
        "# Confusion Matrix\n",
        "cm_mlp = confusion_matrix(mlp_all_labels3, mlp_all_preds3)\n",
        "\n",
        "# Görselleştir\n",
        "plt.figure(figsize=(8, 6))\n",
        "sns.heatmap(cm_mlp, annot=True, fmt='d', cmap='Blues', xticklabels=list(range(10)), yticklabels=list(range(10)))\n",
        "plt.title(\"MLP Confusion Matrix\")\n",
        "plt.xlabel(\"Predicted\")\n",
        "plt.ylabel(\"Actual\")\n",
        "plt.show()\n"
      ],
      "metadata": {
        "colab": {
          "base_uri": "https://localhost:8080/",
          "height": 564
        },
        "id": "G6fdwoLlHSEU",
        "outputId": "54dd1ee6-05ca-419c-ae23-1716b545b494"
      },
      "execution_count": null,
      "outputs": [
        {
          "output_type": "display_data",
          "data": {
            "text/plain": [
              "<Figure size 800x600 with 2 Axes>"
            ],
            "image/png": "[encoded data removed]"
          },
          "metadata": {}
        }
      ]
    },
    {
      "cell_type": "markdown",
      "source": [
        "RBF için Confusion Matrix"
      ],
      "metadata": {
        "id": "Vh1qYO9VJy6p"
      }
    },
    {
      "cell_type": "code",
      "source": [
        "# RBF için tahmin yap\n",
        "rbf_model.eval()\n",
        "rbf_model.to(device)  # Modeli doğru cihaza taşı\n",
        "rbf_all_preds = []\n",
        "rbf_all_labels = []\n",
        "\n",
        "with torch.no_grad():\n",
        "    for images, labels in test_loader:\n",
        "        images, labels = images.to(device), labels.to(device)  # Veriyi doğru cihaza taşı\n",
        "        outputs = rbf_model(images)  # Tahmin\n",
        "        _, predicted = torch.max(outputs.data, 1)\n",
        "        rbf_all_preds.extend(predicted.cpu().numpy())  # CPU'ya taşı ve listeye ekle\n",
        "        rbf_all_labels.extend(labels.cpu().numpy())   # CPU'ya taşı ve listeye ekle\n",
        "\n",
        "# Confusion Matrix\n",
        "cm_rbf = confusion_matrix(rbf_all_labels, rbf_all_preds)\n",
        "\n",
        "# Görselleştir\n",
        "plt.figure(figsize=(8, 6))\n",
        "sns.heatmap(cm_rbf, annot=True, fmt='d', cmap='Blues', xticklabels=list(range(10)), yticklabels=list(range(10)))\n",
        "plt.title(\"RBF Confusion Matrix\")\n",
        "plt.xlabel(\"Predicted\")\n",
        "plt.ylabel(\"Actual\")\n",
        "plt.show()\n"
      ],
      "metadata": {
        "colab": {
          "base_uri": "https://localhost:8080/",
          "height": 564
        },
        "id": "_9sl2W8qJzrf",
        "outputId": "c1b07846-747e-4680-b7b5-c7e6e5c08243"
      },
      "execution_count": null,
      "outputs": [
        {
          "output_type": "display_data",
          "data": {
            "text/plain": [
              "<Figure size 800x600 with 2 Axes>"
            ],
            "image/png": "[encoded data removed]"
          },
          "metadata": {}
        }
      ]
    },
    {
      "cell_type": "markdown",
      "source": [
        "# Performans Metrikleri (Accuracy, Precision, Recall, F1-Score)"
      ],
      "metadata": {
        "id": "_tbbqoh7J4wX"
      }
    },
    {
      "cell_type": "markdown",
      "source": [
        "MLP için:\n",
        "\n"
      ],
      "metadata": {
        "id": "avovWVNQJ6T8"
      }
    },
    {
      "cell_type": "code",
      "source": [
        "# Classification Report for MLP\n",
        "print(\"MLP Classification Report:\")\n",
        "print(classification_report(mlp_all_labels3, mlp_all_preds3))"
      ],
      "metadata": {
        "colab": {
          "base_uri": "https://localhost:8080/"
        },
        "id": "AwN639c2J8_l",
        "outputId": "9f50e095-ce95-4193-cd45-5b5f13541fc9"
      },
      "execution_count": null,
      "outputs": [
        {
          "output_type": "stream",
          "name": "stdout",
          "text": [
            "MLP Classification Report:\n",
            "              precision    recall  f1-score   support\n",
            "\n",
            "           0       0.84      0.86      0.85      1000\n",
            "           1       0.99      0.97      0.98      1000\n",
            "           2       0.84      0.81      0.83      1000\n",
            "           3       0.88      0.91      0.89      1000\n",
            "           4       0.81      0.85      0.83      1000\n",
            "           5       0.98      0.96      0.97      1000\n",
            "           6       0.74      0.71      0.72      1000\n",
            "           7       0.95      0.96      0.95      1000\n",
            "           8       0.98      0.98      0.98      1000\n",
            "           9       0.96      0.97      0.96      1000\n",
            "\n",
            "    accuracy                           0.90     10000\n",
            "   macro avg       0.90      0.90      0.90     10000\n",
            "weighted avg       0.90      0.90      0.90     10000\n",
            "\n"
          ]
        }
      ]
    },
    {
      "cell_type": "markdown",
      "source": [
        "RBF için:"
      ],
      "metadata": {
        "id": "8hEPr_1GKIoc"
      }
    },
    {
      "cell_type": "code",
      "source": [
        "# Classification Report for RBF\n",
        "print(\"RBF Classification Report:\")\n",
        "print(classification_report(rbf_all_labels, rbf_all_preds))\n"
      ],
      "metadata": {
        "colab": {
          "base_uri": "https://localhost:8080/"
        },
        "id": "q_WcxpkVKIZO",
        "outputId": "d4abfaf6-0c17-42c8-e2d0-ba224bc6f8e5"
      },
      "execution_count": null,
      "outputs": [
        {
          "output_type": "stream",
          "name": "stdout",
          "text": [
            "RBF Classification Report:\n",
            "              precision    recall  f1-score   support\n",
            "\n",
            "           0       0.64      0.87      0.74      1000\n",
            "           1       0.79      0.95      0.86      1000\n",
            "           2       0.60      0.70      0.65      1000\n",
            "           3       0.92      0.60      0.72      1000\n",
            "           4       0.66      0.65      0.65      1000\n",
            "           5       0.85      0.81      0.83      1000\n",
            "           6       0.43      0.25      0.32      1000\n",
            "           7       0.87      0.84      0.85      1000\n",
            "           8       0.92      0.90      0.91      1000\n",
            "           9       0.83      0.95      0.88      1000\n",
            "\n",
            "    accuracy                           0.75     10000\n",
            "   macro avg       0.75      0.75      0.74     10000\n",
            "weighted avg       0.75      0.75      0.74     10000\n",
            "\n"
          ]
        }
      ]
    }
  ]
}